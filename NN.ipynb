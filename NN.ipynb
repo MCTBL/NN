{
 "cells": [
  {
   "cell_type": "code",
   "execution_count": 1,
   "metadata": {},
   "outputs": [],
   "source": [
    "import numpy as np"
   ]
  },
  {
   "cell_type": "code",
   "execution_count": 2,
   "metadata": {},
   "outputs": [],
   "source": [
    "class ActiveFunction:\n",
    "\n",
    "    class Sigmoid():\n",
    "\n",
    "        @staticmethod\n",
    "        def evaluat(array: np.ndarray) -> np.ndarray:\n",
    "            return 1 / (1 + np.exp(-array))\n",
    "\n",
    "        @staticmethod\n",
    "        def derivative(array: np.ndarray) -> np.ndarray:\n",
    "            temp = np.exp(-array)\n",
    "            return temp / np.power((1 + temp), 2)\n",
    "\n",
    "    class tanh():\n",
    "\n",
    "        @staticmethod\n",
    "        def evaluat(array: np.ndarray) -> np.ndarray:\n",
    "            return np.tanh(array)\n",
    "\n",
    "        @staticmethod\n",
    "        def derivative(array: np.ndarray) -> np.ndarray:\n",
    "            return 1 - np.power(np.tanh(array), 2)"
   ]
  },
  {
   "cell_type": "code",
   "execution_count": 3,
   "metadata": {},
   "outputs": [],
   "source": [
    "class Layer():\n",
    "\n",
    "    def __init__(self, size: int, previous: int, active: ActiveFunction) -> None:\n",
    "        self.bias = np.random.randn(size, 1)\n",
    "        self.weights = np.random.randn(size, previous)\n",
    "        self.active = active\n",
    "\n",
    "    def stepForward(self, input: np.ndarray) -> np.ndarray:\n",
    "        self.lastInput = input\n",
    "        temp = []\n",
    "        for weight in self.weights:\n",
    "            temp.append(np.sum(input * weight))\n",
    "        self.lastOut = self.active.evaluat((np.array(temp).reshape(self.bias.shape) + self.bias).T)\n",
    "        return self.lastOut\n",
    "    \n",
    "    def layerLastCost(self, expectedOut: np.ndarray) -> np.ndarray:\n",
    "        cost1 = 2 * (expectedOut - self.lastOut)\n",
    "        cost2 = self.active.derivative(self.lastOut)\n",
    "        self.cost = cost1 * cost2\n",
    "        return self.cost\n",
    "    \n",
    "    def layerCost(self, nextLayerCost: np.ndarray) -> np.ndarray:\n",
    "        cost1 = self.weights\n",
    "        cost2 = self.active.derivative(self.lastOut)\n",
    "        self.cost = cost1 * cost2 * nextLayerCost\n",
    "        return self.cost\n",
    "    \n",
    "    def fit(self):\n",
    "        ...\n",
    "\n",
    "class MyNN:\n",
    "    \n",
    "    def __init__(self, shape: list, active: ActiveFunction, learningrate: float = 0.02) -> None:\n",
    "        layers = []\n",
    "        for i in range(1, len(shape)):\n",
    "            layers.append(Layer(shape[i], shape[i - 1], active))\n",
    "        self.layers = layers\n",
    "        self.inputSize = shape[0]\n",
    "        self.outputSize = shape[-1]\n",
    "        self.active = active\n",
    "        self.lr = learningrate\n",
    "    \n",
    "    def forWard(self, input: np.ndarray) -> np.ndarray:\n",
    "        for layer in self.layers:\n",
    "            input = layer.stepForward(input)\n",
    "        return input\n",
    "    \n",
    "    def getLost(self, predictOut: np.ndarray, trueOut: np.ndarray) -> np.ndarray:\n",
    "        return np.sum(np.power(predictOut - trueOut, 2))\n",
    "\n",
    "    def backWard(self):\n",
    "        ..."
   ]
  },
  {
   "cell_type": "code",
   "execution_count": 4,
   "metadata": {},
   "outputs": [],
   "source": [
    "a = np.array([0, -2, 1])\n",
    "b = np.array([[2, 3, 4], [1, 2 ,3]])\n",
    "c = np.array([2, 4])"
   ]
  },
  {
   "cell_type": "code",
   "execution_count": 249,
   "metadata": {},
   "outputs": [
    {
     "data": {
      "text/plain": [
       "array([0.99999386, 0.9999833 ])"
      ]
     },
     "execution_count": 249,
     "metadata": {},
     "output_type": "execute_result"
    }
   ],
   "source": [
    "q = []\n",
    "for z in b:\n",
    "    q.append(np.sum(a * z))\n",
    "ActiveFunction.Sigmoid.evaluat((np.array([q]).reshape(c.shape) + c).T)"
   ]
  },
  {
   "cell_type": "code",
   "execution_count": 250,
   "metadata": {},
   "outputs": [],
   "source": [
    "v = Layer(2, 3, ActiveFunction.Sigmoid)\n",
    "v.bias = c\n",
    "v.weights = b"
   ]
  },
  {
   "cell_type": "code",
   "execution_count": 251,
   "metadata": {},
   "outputs": [
    {
     "data": {
      "text/plain": [
       "array([0.99999386, 0.9999833 ])"
      ]
     },
     "execution_count": 251,
     "metadata": {},
     "output_type": "execute_result"
    }
   ],
   "source": [
    "v.step(a)"
   ]
  },
  {
   "cell_type": "code",
   "execution_count": 17,
   "metadata": {},
   "outputs": [
    {
     "name": "stdout",
     "output_type": "stream",
     "text": [
      "[[-0.2503979   0.1847132  -0.20466251]\n",
      " [-0.65959198 -1.74009604  0.28733756]]\n",
      "[[-0.92757288]\n",
      " [-0.3428947 ]]\n"
     ]
    }
   ],
   "source": [
    "n = MyNN([3, 2], ActiveFunction.Sigmoid)\n",
    "print(n.layers[0].weights)\n",
    "print(n.layers[0].bias)\n"
   ]
  },
  {
   "cell_type": "code",
   "execution_count": 18,
   "metadata": {},
   "outputs": [
    {
     "data": {
      "text/plain": [
       "array([[0.48701644, 0.5       ]])"
      ]
     },
     "execution_count": 18,
     "metadata": {},
     "output_type": "execute_result"
    }
   ],
   "source": [
    "n.forWard(np.array([10, 10, 10]))\n",
    "n.layers[0].layerLastCost(np.array([1, 1]))"
   ]
  },
  {
   "cell_type": "code",
   "execution_count": 421,
   "metadata": {},
   "outputs": [
    {
     "name": "stdout",
     "output_type": "stream",
     "text": [
      "[[0.50052149 0.13682897]]\n"
     ]
    },
    {
     "data": {
      "text/plain": [
       "3.7208850781170346"
      ]
     },
     "execution_count": 421,
     "metadata": {},
     "output_type": "execute_result"
    }
   ],
   "source": [
    "tar = np.array([1, 2])\n",
    "print(n.forward(a))\n",
    "n.getLost(n.forward(a), tar)\n"
   ]
  },
  {
   "cell_type": "code",
   "execution_count": 392,
   "metadata": {},
   "outputs": [
    {
     "data": {
      "text/plain": [
       "3.7200759760208356e-44"
      ]
     },
     "execution_count": 392,
     "metadata": {},
     "output_type": "execute_result"
    }
   ],
   "source": [
    "ActiveFunction.Sigmoid.evaluat(-100)"
   ]
  },
  {
   "cell_type": "code",
   "execution_count": 21,
   "metadata": {},
   "outputs": [
    {
     "ename": "ValueError",
     "evalue": "operands could not be broadcast together with shapes (1,2) (3,) ",
     "output_type": "error",
     "traceback": [
      "\u001b[1;31m---------------------------------------------------------------------------\u001b[0m",
      "\u001b[1;31mValueError\u001b[0m                                Traceback (most recent call last)",
      "Cell \u001b[1;32mIn[21], line 1\u001b[0m\n\u001b[1;32m----> 1\u001b[0m \u001b[43mnp\u001b[49m\u001b[38;5;241;43m.\u001b[39;49m\u001b[43marray\u001b[49m\u001b[43m(\u001b[49m\u001b[43m[\u001b[49m\u001b[43m[\u001b[49m\u001b[38;5;241;43m1\u001b[39;49m\u001b[43m,\u001b[49m\u001b[43m \u001b[49m\u001b[38;5;241;43m2\u001b[39;49m\u001b[43m]\u001b[49m\u001b[43m]\u001b[49m\u001b[43m)\u001b[49m\u001b[43m \u001b[49m\u001b[38;5;241;43m*\u001b[39;49m\u001b[43m \u001b[49m\u001b[43mnp\u001b[49m\u001b[38;5;241;43m.\u001b[39;49m\u001b[43marray\u001b[49m\u001b[43m(\u001b[49m\u001b[43m[\u001b[49m\u001b[38;5;241;43m2\u001b[39;49m\u001b[43m,\u001b[49m\u001b[43m \u001b[49m\u001b[38;5;241;43m3\u001b[39;49m\u001b[43m,\u001b[49m\u001b[43m \u001b[49m\u001b[38;5;241;43m4\u001b[39;49m\u001b[43m]\u001b[49m\u001b[43m)\u001b[49m\n",
      "\u001b[1;31mValueError\u001b[0m: operands could not be broadcast together with shapes (1,2) (3,) "
     ]
    }
   ],
   "source": [
    "np.array([[1, 2]]) * np.array([2, 3, 4])"
   ]
  },
  {
   "cell_type": "code",
   "execution_count": null,
   "metadata": {},
   "outputs": [],
   "source": []
  }
 ],
 "metadata": {
  "kernelspec": {
   "display_name": "Python 3",
   "language": "python",
   "name": "python3"
  },
  "language_info": {
   "codemirror_mode": {
    "name": "ipython",
    "version": 3
   },
   "file_extension": ".py",
   "mimetype": "text/x-python",
   "name": "python",
   "nbconvert_exporter": "python",
   "pygments_lexer": "ipython3",
   "version": "3.12.2"
  }
 },
 "nbformat": 4,
 "nbformat_minor": 2
}
